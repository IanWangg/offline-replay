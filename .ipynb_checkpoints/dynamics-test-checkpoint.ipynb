{
 "cells": [
  {
   "cell_type": "code",
   "execution_count": 13,
   "metadata": {},
   "outputs": [],
   "source": [
    "import gym\n",
    "import torch\n",
    "import torch.nn as nn\n",
    "import torch.nn.functional as F\n",
    "from torch.distributions import Normal\n",
    "\n",
    "import numpy as np\n",
    "from tqdm import tqdm\n",
    "\n",
    "\n",
    "def weights_init_(m):\n",
    "    if isinstance(m, nn.Linear):\n",
    "        torch.nn.init.xavier_uniform_(m.weight, gain=1)\n",
    "        torch.nn.init.constant_(m.bias, 0)\n",
    "        \n",
    "class Swish(nn.Module):\n",
    "    def __init__(self):\n",
    "        super(Swish, self).__init__()\n",
    "\n",
    "    def forward(self, x):\n",
    "        x = x * F.sigmoid(x)\n",
    "        return x\n",
    "#         return F.relu(x)\n",
    "    \n",
    "class StandardScaler(object):\n",
    "    def __init__(self):\n",
    "        pass\n",
    "\n",
    "    def fit(self, data):\n",
    "        self.mu = np.mean(data, axis=0, keepdims=True)\n",
    "        self.std = np.std(data, axis=0, keepdims=True)\n",
    "        self.std[self.std < 1e-12] = 1.0\n",
    "\n",
    "    def normalize(self, data):\n",
    "        return (data - self.mu) / self.std\n",
    "\n",
    "    def inverse_normalize(self, data):\n",
    "        return self.std * data + self.mu\n",
    "\n",
    "class Dynamics(nn.Module):\n",
    "    def __init__(\n",
    "        self, \n",
    "        state_dim, \n",
    "        action_dim, \n",
    "        hidden_dim=512\n",
    "    ):\n",
    "        super().__init__()\n",
    "        self.swish = Swish() # use swish activation\n",
    "        self.fc1 = nn.Linear(state_dim + action_dim, hidden_dim)\n",
    "        self.fc2 = nn.Linear(hidden_dim, hidden_dim)\n",
    "        self.mu = nn.Linear(hidden_dim, state_dim+1)\n",
    "        self.log_std = nn.Linear(hidden_dim, state_dim+1)\n",
    "        \n",
    "        self.apply(weights_init_)\n",
    "        \n",
    "    def forward(self, state, action):\n",
    "        cat = torch.cat([state, action], dim=1)\n",
    "        out = self.swish(self.fc1(cat))\n",
    "        out = self.swish(self.fc2(out))\n",
    "        mu = self.mu(out)\n",
    "        log_std = self.log_std(out)\n",
    "        log_std = torch.clamp(log_std, min=-20, max=2)\n",
    "        return mu, log_std\n",
    "    \n",
    "    def predict(self, state, action, deterministic=False):\n",
    "        mu, log_std = self.forward(state, action)\n",
    "        if deterministic:\n",
    "            return mu\n",
    "        \n",
    "        std = log_std.exp() # since we use exp function, std is guaranteed to be positive\n",
    "        dist = Normal(mu, std)\n",
    "        return dist.rsample()\n",
    "        \n",
    "    def log_prob(self, state, action, next_state, reward):\n",
    "        next_value = torch.cat([next_state, reward], dim=1)\n",
    "        mu, log_std = self.forward(state, action)\n",
    "        std = log_std.exp()\n",
    "        dist = Normal(mu, std)\n",
    "        return dist.log_prob(next_value)\n",
    "    \n",
    "    def get_mu_and_var(self, state, action):\n",
    "        pass\n",
    "    \n",
    "    \n",
    "class DynamicsEnsemble(object):\n",
    "    def __init__(\n",
    "        self,\n",
    "        state_dim,\n",
    "        action_dim,\n",
    "        lr=3e-4,\n",
    "        deterministic=True,\n",
    "        hidden_dim=512,\n",
    "        num_models=5,\n",
    "    ):  \n",
    "        device = torch.device('cuda' if torch.cuda.is_available() else 'cpu')\n",
    "        self.deterministic = deterministic\n",
    "        self.num_models = num_models\n",
    "        self.models = []\n",
    "        self.model_opts = []\n",
    "        for i in range(self.num_models):\n",
    "            model = Dynamics(\n",
    "                state_dim=state_dim,\n",
    "                action_dim=action_dim,\n",
    "                hidden_dim=hidden_dim,\n",
    "            ).to(device)\n",
    "            \n",
    "            optimizer = torch.optim.Adam(model.parameters(), lr=lr)\n",
    "            self.models.append(model)\n",
    "            self.model_opts.append(optimizer)\n",
    "        \n",
    "    def to(self, device):\n",
    "        for model in self.models:\n",
    "            model.to(device)\n",
    "            \n",
    "    def set_to_stochastic(self): # change between deterministic and stochastic\n",
    "        self.deterministic = False\n",
    "        \n",
    "    def set_to_deterministic(self):\n",
    "        self.deterministic = True\n",
    "        \n",
    "    def _termination_fn(self, state, action, next_state):\n",
    "        obs = state\n",
    "        act = action\n",
    "        next_obs = next_state\n",
    "        if env_name == \"Hopper-v2\":\n",
    "            assert len(obs.shape) == len(next_obs.shape) == len(act.shape) == 2\n",
    "\n",
    "            height = next_obs[:, 0]\n",
    "            angle = next_obs[:, 1]\n",
    "            not_done = np.isfinite(next_obs).all(axis=-1) \\\n",
    "                       * np.abs(next_obs[:, 1:] < 100).all(axis=-1) \\\n",
    "                       * (height > .7) \\\n",
    "                       * (np.abs(angle) < .2)\n",
    "\n",
    "            done = ~not_done\n",
    "            done = done[:, None]\n",
    "            return done\n",
    "        elif env_name == \"Walker2d-v2\":\n",
    "            assert len(obs.shape) == len(next_obs.shape) == len(act.shape) == 2\n",
    "\n",
    "            height = next_obs[:, 0]\n",
    "            angle = next_obs[:, 1]\n",
    "            not_done = (height > 0.8) \\\n",
    "                       * (height < 2.0) \\\n",
    "                       * (angle > -1.0) \\\n",
    "                       * (angle < 1.0)\n",
    "            done = ~not_done\n",
    "            done = done[:, None]\n",
    "            return done\n",
    "            \n",
    "    def predict(self, state, action, mode='mean'):\n",
    "        '''\n",
    "        mode : default mean\n",
    "        1. mean : return the mean output of all sub-models\n",
    "        2. min : return the mean output of the reward, and return the mean of the state value\n",
    "        '''\n",
    "        assert mode in ['mean', 'min']\n",
    "        next_state = None\n",
    "        reward = None\n",
    "        for model in self.models:\n",
    "            next_value = model.predict(state, action, self.deterministic)\n",
    "            next_state = next_value[:, :-1] if next_state is None else next_state + next_value[:, :-1]\n",
    "            if mode == 'mean':\n",
    "                reward = reward[:, -1:] if reward is None else reward + reward[:, -1:]\n",
    "            else: # mode == 'min'\n",
    "                reward = reward[:, -1:] if reward is None else min(reward, reward[:, -1:])\n",
    "                \n",
    "        next_state /= self.num_models  # get the average next_state value\n",
    "        if mode == 'mean':\n",
    "            reward /= self.num_models # get the average reward value\n",
    "        \n",
    "        return next_state, reward\n",
    "        \n",
    "    def train(self, replay_buffer, model_idx, batch_size=256):\n",
    "        model = self.models[model_idx]\n",
    "        optimizer = self.model_opts[model_idx]\n",
    "        state, action, next_state, reward, not_done = replay_buffer.sample(batch_size)\n",
    "        log_prob = model.log_prob(state, action, next_state, reward)\n",
    "        loss = -log_prob.mean()\n",
    "        \n",
    "        optimizer.zero_grad()\n",
    "        loss.backward()\n",
    "        optimizer.step()\n",
    "        \n",
    "        return loss.data.cpu().numpy()\n",
    "    \n",
    "    def evaluate(self, replay_buffer, model_idx, batch_size=1024):\n",
    "        model = self.models[model_idx]\n",
    "        state, action, next_state, reward, not_done = replay_buffer.sample(batch_size)\n",
    "        with torch.no_grad():\n",
    "            mu, _ = model(state, action)\n",
    "            label = torch.cat([state, reward], dim=1)\n",
    "        loss = F.mse_loss(mu, label)\n",
    "        \n",
    "        return loss.data.cpu().numpy()\n",
    "    \n",
    "    def learn(self, replay_buffer, step_size, batch_size=256, eval_batch_size=1024):\n",
    "        loss = []\n",
    "        mse = []\n",
    "        for model_idx in range(self.num_models):\n",
    "            sub_loss = []\n",
    "            eval_loss = []\n",
    "            for step in tqdm(range(step_size)):\n",
    "                sub_loss.append(self.train(replay_buffer, model_idx, batch_size))\n",
    "                eval_loss.append(self.evaluate(replay_buffer, model_idx, eval_batch_size))\n",
    "            sub_loss = np.array(sub_loss)\n",
    "            eval_loss = np.array(eval_loss)\n",
    "            loss.append(sub_loss)\n",
    "            mse.append(eval_loss)\n",
    "            \n",
    "        return np.array(loss), np.array(mse)\n",
    "    \n",
    "    def uncertainty_penalty(self, state, action, use_var=True): # this is the penalty introduced as Predictive Uncertainty Estimation\n",
    "        mu_and_var = 0\n",
    "        mean_mu = 0\n",
    "        \n",
    "        for model in self.models:\n",
    "            with torch.no_grad():\n",
    "                mean, log_std = model(state, action)\n",
    "                std = log_std.exp()\n",
    "                mean_mu = mean_mu + mean\n",
    "                mean_sq = mean.exp()\n",
    "                var = std.exp()\n",
    "                mu_and_var_sq = mu_and_var + mean_sq + var.exp()\n",
    "        \n",
    "        mean_mu /= self.num_models # get the mean value of the mu\n",
    "        mean_mu_sq = mean_mu.exp() # get the square of the mean value of mu\n",
    "        mu_and_var_sq /= self.num_models\n",
    "        \n",
    "        ensemble_var = mu_and_var_sq - mean_mu_sq\n",
    "        \n",
    "        if use_var:\n",
    "            return ensemble_var\n",
    "        \n",
    "        return ensemble_var.sqrt()"
   ]
  },
  {
   "cell_type": "code",
   "execution_count": 14,
   "metadata": {},
   "outputs": [
    {
     "name": "stderr",
     "output_type": "stream",
     "text": [
      "/home/yiranwang/workplace/common_packages/d4rl/d4rl/gym_mujoco/gym_envs.py:13: UserWarning: \u001b[33mThis environment is deprecated. Please use the most recent version of this environment.\u001b[0m\n",
      "  offline_env.OfflineEnv.__init__(self, **kwargs)\n",
      "/home/yiranwang/anaconda3/envs/offline/lib/python3.7/site-packages/gym/spaces/box.py:74: UserWarning: \u001b[33mWARN: Box bound precision lowered by casting to float32\u001b[0m\n",
      "  \"Box bound precision lowered by casting to {}\".format(self.dtype)\n",
      "load datafile: 100%|████████████████████████████████████████████████████████████████████████████████████████████████████████████████████████████████████████████████████████████████████████████████████████████████████████████████████████████████| 5/5 [00:00<00:00, 20.57it/s]\n"
     ]
    }
   ],
   "source": [
    "import d4rl\n",
    "\n",
    "env = gym.make('hopper-medium-v0')\n",
    "dataset = d4rl.qlearning_dataset(env)"
   ]
  },
  {
   "cell_type": "code",
   "execution_count": 3,
   "metadata": {},
   "outputs": [
    {
     "data": {
      "text/plain": [
       "(array([[ 1.3001906 ,  0.01509409, -0.26983166, -0.33195248,  0.04392744,\n",
       "          2.1276922 , -0.20837338,  0.00489949, -0.447387  , -0.15586728,\n",
       "         -0.3525342 ]], dtype=float32),\n",
       " array([[0.1686824 , 0.08239981, 0.28678918, 0.2971138 , 0.6330729 ,\n",
       "         0.8770976 , 1.4237294 , 0.9800177 , 1.8511007 , 3.185214  ,\n",
       "         5.6044817 ]], dtype=float32))"
      ]
     },
     "execution_count": 3,
     "metadata": {},
     "output_type": "execute_result"
    }
   ],
   "source": [
    "from buffer import ReplayBuffer\n",
    "state_dim = env.observation_space.shape[0]\n",
    "action_dim = env.action_space.shape[0]\n",
    "replay_buffer = ReplayBuffer(\n",
    "    state_dim,\n",
    "    action_dim\n",
    ")\n",
    "replay_buffer.convert_D4RL(dataset)\n",
    "replay_buffer.normalize_states()"
   ]
  },
  {
   "cell_type": "code",
   "execution_count": 16,
   "metadata": {},
   "outputs": [
    {
     "name": "stderr",
     "output_type": "stream",
     "text": [
      "100%|██████████████████████████████████████████████████████████████████████████████████████████████████████████████████████████████████████████████████████████████████████████████████████████████████████████████████████████████████████| 10000/10000 [00:23<00:00, 431.45it/s]\n"
     ]
    }
   ],
   "source": [
    "ensemble = DynamicsEnsemble(\n",
    "    state_dim,\n",
    "    action_dim,\n",
    "    num_models=1\n",
    ")\n",
    "loss, eval_loss = ensemble.learn(replay_buffer, step_size=int(1e4))"
   ]
  },
  {
   "cell_type": "code",
   "execution_count": 59,
   "metadata": {},
   "outputs": [
    {
     "data": {
      "text/plain": [
       "array([], dtype=float64)"
      ]
     },
     "execution_count": 59,
     "metadata": {},
     "output_type": "execute_result"
    }
   ],
   "source": [
    "eval_loss"
   ]
  },
  {
   "cell_type": "code",
   "execution_count": 12,
   "metadata": {},
   "outputs": [
    {
     "data": {
      "text/plain": [
       "[<matplotlib.lines.Line2D at 0x7f502b0fc710>]"
      ]
     },
     "execution_count": 12,
     "metadata": {},
     "output_type": "execute_result"
    },
    {
     "data": {
      "image/png": "[encoded data removed]",
      "text/plain": [
       "<Figure size 432x288 with 1 Axes>"
      ]
     },
     "metadata": {
      "needs_background": "light"
     },
     "output_type": "display_data"
    }
   ],
   "source": [
    "import matplotlib.pyplot as plt\n",
    "\n",
    "plt.plot(loss[-1])"
   ]
  },
  {
   "cell_type": "code",
   "execution_count": 18,
   "metadata": {},
   "outputs": [
    {
     "data": {
      "text/plain": [
       "[<matplotlib.lines.Line2D at 0x7f50326d0e50>]"
      ]
     },
     "execution_count": 18,
     "metadata": {},
     "output_type": "execute_result"
    },
    {
     "data": {
      "image/png": "[encoded data removed]",
      "text/plain": [
       "<Figure size 432x288 with 1 Axes>"
      ]
     },
     "metadata": {
      "needs_background": "light"
     },
     "output_type": "display_data"
    }
   ],
   "source": [
    "import matplotlib.pyplot as plt\n",
    "\n",
    "plt.plot(eval_loss[-1])"
   ]
  },
  {
   "cell_type": "code",
   "execution_count": 66,
   "metadata": {},
   "outputs": [
    {
     "data": {
      "text/plain": [
       "array([ 3.7886043,  2.9132688,  2.454722 , ..., -2.203812 , -2.3203368,\n",
       "       -2.2131095], dtype=float32)"
      ]
     },
     "execution_count": 66,
     "metadata": {},
     "output_type": "execute_result"
    }
   ],
   "source": [
    "loss[-1]"
   ]
  },
  {
   "cell_type": "code",
   "execution_count": null,
   "metadata": {},
   "outputs": [],
   "source": [
    "# TODO :\n",
    "# 1. check if the uncertainty function is correct (if cannot check, just view the performance)\n",
    "# 2. need to add terminal flag to the rollout model, which should take two factors into consideration : \n",
    "#    a. the true terminal flag (use a hard-coded function)\n",
    "#    b. the uncertainty, which is the variance of the ensemble\n",
    "#    c. random thought : should we use a newly terminal flag that indicate to what ratio we should terminate this traj?"
   ]
  }
 ],
 "metadata": {
  "kernelspec": {
   "display_name": "offline",
   "language": "python",
   "name": "offline-rl"
  },
  "language_info": {
   "codemirror_mode": {
    "name": "ipython",
    "version": 3
   },
   "file_extension": ".py",
   "mimetype": "text/x-python",
   "name": "python",
   "nbconvert_exporter": "python",
   "pygments_lexer": "ipython3",
   "version": "3.7.12"
  }
 },
 "nbformat": 4,
 "nbformat_minor": 4
}
